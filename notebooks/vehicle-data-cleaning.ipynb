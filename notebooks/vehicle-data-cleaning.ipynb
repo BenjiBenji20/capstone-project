{
 "cells": [
  {
   "cell_type": "markdown",
   "id": "fc168c1b",
   "metadata": {},
   "source": [
    "DATA CLEANING\n",
    " - REMOVING UNNECESSARY COLUMNS\n",
    " - RENAMING COLUMNS\n",
    " - CONVERTING DATE OBJECT INTO DATE TYPE\n",
    " - DROPING EXTRA RAWS\n",
    " - REMOVING NULL ROWS\n",
    " - EDITING DATE AND HOURS ENTRY "
   ]
  },
  {
   "cell_type": "code",
   "execution_count": 22,
   "id": "91123c34",
   "metadata": {},
   "outputs": [],
   "source": [
    "import pandas as pd\n",
    "\n",
    "df = pd.read_csv('../data/raw/vehicle-volume-data-feed-prophet-model.csv')"
   ]
  },
  {
   "cell_type": "markdown",
   "id": "e2bcfaeb",
   "metadata": {},
   "source": [
    "Removing unnecessary columns\n",
    "Drop the columns that are unnecessary by prophet model\n",
    "\n",
    "Columns:\n",
    " - holiday               \n",
    " - temp                 \n",
    " - rain_1h              \n",
    " - snow_1h              \n",
    " - clouds_all             \n",
    " - weather_main          \n",
    " - weather_description"
   ]
  },
  {
   "cell_type": "code",
   "execution_count": 23,
   "id": "2860e6c3",
   "metadata": {},
   "outputs": [],
   "source": [
    "df.drop(columns=['holiday', 'temp', 'rain_1h', 'snow_1h', 'clouds_all', 'weather_main', 'weather_description'], inplace=True)"
   ]
  },
  {
   "cell_type": "markdown",
   "id": "3a675159",
   "metadata": {},
   "source": [
    "Renaming columns\n",
    " - date_time -> ds (timestamp): This will serve as x-axis\n",
    " - traffic_volume -> y (vehicle_count): This will serve as y-axis"
   ]
  },
  {
   "cell_type": "code",
   "execution_count": 24,
   "id": "562e3f13",
   "metadata": {},
   "outputs": [],
   "source": [
    "df.rename(columns={'date_time': 'ds', 'traffic_volume': 'y'}, inplace=True)"
   ]
  },
  {
   "cell_type": "markdown",
   "id": "3fc79d2c",
   "metadata": {},
   "source": [
    "Converting date object into date type\n",
    "\n",
    "Prophet model cannot handle date object so it must be converted into date type"
   ]
  },
  {
   "cell_type": "code",
   "execution_count": 25,
   "id": "423ff0b7",
   "metadata": {},
   "outputs": [],
   "source": [
    "df['ds'] = pd.to_datetime(df['ds'], format=\"%d-%m-%Y %H:%M\")"
   ]
  },
  {
   "cell_type": "markdown",
   "id": "a32ebf5e",
   "metadata": {},
   "source": [
    "Data loading"
   ]
  },
  {
   "cell_type": "markdown",
   "id": "b9dba93d",
   "metadata": {},
   "source": [
    "Droping extra rows\n",
    "\n",
    "Prophet model can become highly accurate when making a Traffic Time Series Forecasting when fed with 1yr set of data.\n",
    "Our raw data, specifically in ds (date_time) includes hour, so 1 day data must have 24 rows and a year has 365 days.\n",
    "\n",
    "24*365 = 8760 rows (must be near to this number)\n",
    "but this raw data has 48k rows, so we need to drop 48203 - 8760 = 39443 rows\n",
    "\n",
    "11134 <-> 20344"
   ]
  },
  {
   "cell_type": "code",
   "execution_count": 26,
   "id": "cb1cfc98",
   "metadata": {},
   "outputs": [],
   "source": [
    "# Drop rows from 0 to 11133 and 20344 to 48203\n",
    "df.drop(index=list(range(0, 11132)) + list(range(20344, 48204)), inplace=True)\n",
    "\n",
    "# reset index numbering\n",
    "df = df.reset_index(drop=True)"
   ]
  },
  {
   "cell_type": "markdown",
   "id": "ef31658e",
   "metadata": {},
   "source": [
    "Removing rows with null value"
   ]
  },
  {
   "cell_type": "code",
   "execution_count": 27,
   "id": "4e496596",
   "metadata": {},
   "outputs": [
    {
     "data": {
      "text/plain": [
       "y     0\n",
       "ds    0\n",
       "dtype: int64"
      ]
     },
     "execution_count": 27,
     "metadata": {},
     "output_type": "execute_result"
    }
   ],
   "source": [
    "(df[df.isnull().any(axis=1)]).count() # from any column, count the number of rows with null value"
   ]
  },
  {
   "cell_type": "code",
   "execution_count": 28,
   "id": "0092e8f1",
   "metadata": {},
   "outputs": [
    {
     "data": {
      "text/plain": [
       "y     9212\n",
       "ds    9212\n",
       "dtype: int64"
      ]
     },
     "execution_count": 28,
     "metadata": {},
     "output_type": "execute_result"
    }
   ],
   "source": [
    "df.head()\n",
    "#df.info()\n",
    "df.count() # 48k raws before processing"
   ]
  },
  {
   "cell_type": "markdown",
   "id": "6032ffc7",
   "metadata": {},
   "source": [
    "Check for duplicate entries"
   ]
  },
  {
   "cell_type": "code",
   "execution_count": 29,
   "id": "74fae2cc",
   "metadata": {},
   "outputs": [
    {
     "data": {
      "text/plain": [
       "<DatetimeArray>\n",
       "['2014-01-01 00:00:00', '2014-01-01 01:00:00', '2014-01-01 02:00:00',\n",
       " '2014-01-01 03:00:00', '2014-01-01 04:00:00', '2014-01-01 05:00:00',\n",
       " '2014-01-01 06:00:00', '2014-01-01 07:00:00', '2014-01-01 08:00:00',\n",
       " '2014-01-01 09:00:00',\n",
       " ...\n",
       " '2015-12-31 08:00:00', '2015-12-31 09:00:00', '2015-12-31 10:00:00',\n",
       " '2015-12-31 12:00:00', '2015-12-31 13:00:00', '2015-12-31 15:00:00',\n",
       " '2015-12-31 16:00:00', '2015-12-31 19:00:00', '2015-12-31 21:00:00',\n",
       " '2015-12-31 23:00:00']\n",
       "Length: 8094, dtype: datetime64[ns]"
      ]
     },
     "execution_count": 29,
     "metadata": {},
     "output_type": "execute_result"
    }
   ],
   "source": [
    "df['ds'].unique() \n",
    "#8094 unique values but the total rows are 9212 which means\n",
    "#1118 rows are duplicated"
   ]
  },
  {
   "cell_type": "markdown",
   "id": "e6289d17",
   "metadata": {},
   "source": [
    "Aggregate Duplicate Values"
   ]
  },
  {
   "cell_type": "code",
   "execution_count": 30,
   "id": "337c2f83",
   "metadata": {},
   "outputs": [],
   "source": [
    "y_value = df['y']\n",
    "df = df.groupby('ds', as_index=False)['y'].sum()"
   ]
  },
  {
   "cell_type": "code",
   "execution_count": 31,
   "id": "28bd77ed",
   "metadata": {},
   "outputs": [
    {
     "name": "stdout",
     "output_type": "stream",
     "text": [
      "<class 'pandas.core.frame.DataFrame'>\n",
      "RangeIndex: 8094 entries, 0 to 8093\n",
      "Data columns (total 2 columns):\n",
      " #   Column  Non-Null Count  Dtype         \n",
      "---  ------  --------------  -----         \n",
      " 0   ds      8094 non-null   datetime64[ns]\n",
      " 1   y       8094 non-null   int64         \n",
      "dtypes: datetime64[ns](1), int64(1)\n",
      "memory usage: 126.6 KB\n"
     ]
    }
   ],
   "source": [
    "df.head()\n",
    "df.info()"
   ]
  },
  {
   "cell_type": "markdown",
   "id": "028ba947",
   "metadata": {},
   "source": [
    "Edit Date and Hours Entry"
   ]
  },
  {
   "cell_type": "code",
   "execution_count": 32,
   "id": "00f22e8d",
   "metadata": {},
   "outputs": [
    {
     "name": "stderr",
     "output_type": "stream",
     "text": [
      "C:\\Users\\imper\\AppData\\Local\\Temp\\ipykernel_16168\\3565427946.py:1: FutureWarning: 'H' is deprecated and will be removed in a future version, please use 'h' instead.\n",
      "  full_range = pd.date_range(start='2024-01-01 00:00', end='2024-12-31 23:00', freq='H')\n"
     ]
    }
   ],
   "source": [
    "full_range = pd.date_range(start='2024-01-01 00:00', end='2024-12-31 23:00', freq='H')\n",
    "df = df.set_index('ds').reindex(full_range).fillna(0).rename_axis('ds').reset_index()"
   ]
  },
  {
   "cell_type": "code",
   "execution_count": 33,
   "id": "f38bf395",
   "metadata": {},
   "outputs": [],
   "source": [
    "df_len = len(df)\n",
    "y_value = y_value.drop(index=range(df_len, len(y_value)))"
   ]
  },
  {
   "cell_type": "code",
   "execution_count": null,
   "id": "6f8b87d3",
   "metadata": {},
   "outputs": [],
   "source": [
    "df['y'] = y_value # pass the value"
   ]
  },
  {
   "cell_type": "code",
   "execution_count": 38,
   "id": "375ac4cb",
   "metadata": {},
   "outputs": [
    {
     "data": {
      "text/plain": [
       "np.int64(0)"
      ]
     },
     "execution_count": 38,
     "metadata": {},
     "output_type": "execute_result"
    }
   ],
   "source": [
    "df.loc[df.duplicated() == True, 'ds'] # check for duplicate entry\n",
    "(df.loc[df.duplicated() == True, 'ds']).count() # count = 0 no duplicates"
   ]
  },
  {
   "cell_type": "markdown",
   "id": "6461b1bb",
   "metadata": {},
   "source": [
    "Save as CSV file"
   ]
  },
  {
   "cell_type": "code",
   "execution_count": 39,
   "id": "37bd86e2",
   "metadata": {},
   "outputs": [],
   "source": [
    "df.to_csv('../data/processed/vehicle-data-feed-prophet-model.csv', index=False)"
   ]
  }
 ],
 "metadata": {
  "kernelspec": {
   "display_name": ".venv",
   "language": "python",
   "name": "python3"
  },
  "language_info": {
   "codemirror_mode": {
    "name": "ipython",
    "version": 3
   },
   "file_extension": ".py",
   "mimetype": "text/x-python",
   "name": "python",
   "nbconvert_exporter": "python",
   "pygments_lexer": "ipython3",
   "version": "3.13.3"
  }
 },
 "nbformat": 4,
 "nbformat_minor": 5
}
