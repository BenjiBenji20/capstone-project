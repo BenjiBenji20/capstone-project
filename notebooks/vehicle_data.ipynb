{
 "cells": [
  {
   "cell_type": "markdown",
   "id": "31b23015",
   "metadata": {},
   "source": [
    "THIS IS JUST A SYNTHETIC DATA PROPOSED BY GPT"
   ]
  },
  {
   "cell_type": "code",
   "execution_count": null,
   "id": "e354665b",
   "metadata": {},
   "outputs": [],
   "source": [
    "import pandas as pd\n",
    "import numpy as np\n",
    "\n",
    "# Step 1: Simulate hourly traffic pattern for 14 days\n",
    "date_rng = pd.date_range(start='2024-01-01 00:00', end='2024-12-31 23:00:00', freq='H')\n",
    "df = pd.DataFrame(date_rng, columns=['ds'])\n",
    "\n",
    "# Step 2: Generate synthetic traffic pattern\n",
    "df['hour'] = df['ds'].dt.hour\n",
    "df['y'] = df['hour'].apply(\n",
    "    lambda h: 8000 + 2000 * np.sin((h-7)*np.pi/12) if 6 <= h <= 9 or 17 <= h <= 19 else 3000 + np.random.randint(0, 500)\n",
    ")\n",
    "df.drop(columns=['hour'], inplace=True)"
   ]
  },
  {
   "cell_type": "code",
   "execution_count": null,
   "id": "00a4312c",
   "metadata": {},
   "outputs": [],
   "source": [
    "df.tail()"
   ]
  },
  {
   "cell_type": "code",
   "execution_count": null,
   "id": "fabba387",
   "metadata": {},
   "outputs": [],
   "source": [
    "df.info()"
   ]
  },
  {
   "cell_type": "code",
   "execution_count": null,
   "metadata": {},
   "outputs": [],
   "source": [
    "df.to_csv('../data/processed/vehicle-dataset.csv', index=False)"
   ]
  }
 ],
 "metadata": {
  "kernelspec": {
   "display_name": ".venv",
   "language": "python",
   "name": "python3"
  },
  "language_info": {
   "codemirror_mode": {
    "name": "ipython",
    "version": 3
   },
   "file_extension": ".py",
   "mimetype": "text/x-python",
   "name": "python",
   "nbconvert_exporter": "python",
   "pygments_lexer": "ipython3",
   "version": "3.13.3"
  }
 },
 "nbformat": 4,
 "nbformat_minor": 5
}
