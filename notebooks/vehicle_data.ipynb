{
 "cells": [
  {
   "cell_type": "markdown",
   "id": "31b23015",
   "metadata": {},
   "source": [
    "THIS IS JUST A SYNTHETIC DATA PROPOSED BY GPT"
   ]
  },
  {
   "cell_type": "code",
   "execution_count": null,
   "id": "e354665b",
   "metadata": {},
   "outputs": [],
   "source": [
    "import pandas as pd\n",
    "import numpy as np\n",
    "\n",
    "# Step 1: Simulate hourly traffic pattern for 14 days\n",
    "date_rng = pd.date_range(start='2024-01-01 00:00', end='2024-12-31 23:00:00', freq='H')\n",
    "df = pd.DataFrame(date_rng, columns=['ds'])\n",
    "\n",
    "# Step 2: Generate synthetic traffic pattern\n",
    "df['hour'] = df['ds'].dt.hour\n",
    "df['y'] = df['hour'].apply(\n",
    "    lambda h: 8000 + 2000 * np.sin((h-7)*np.pi/12) if 6 <= h <= 9 or 17 <= h <= 19 else 3000 + np.random.randint(0, 500)\n",
    ")\n",
    "df.drop(columns=['hour'], inplace=True)"
   ]
  },
  {
   "cell_type": "code",
   "execution_count": null,
   "id": "00a4312c",
   "metadata": {},
   "outputs": [],
   "source": [
    "df.tail()"
   ]
  },
  {
   "cell_type": "code",
   "execution_count": null,
   "id": "fabba387",
   "metadata": {},
   "outputs": [],
   "source": [
    "df.info()"
   ]
  },
  {
   "cell_type": "code",
   "execution_count": null,
   "metadata": {},
   "outputs": [],
   "source": [
    "df.to_csv('../data/processed/vehicle-dataset.csv', index=False)"
   ]
  },
  {
   "cell_type": "markdown",
   "id": "611ebbbf",
   "metadata": {},
   "source": [
    "BAWASAN YUNG Y value napakka laki"
   ]
  },
  {
   "cell_type": "code",
   "execution_count": null,
   "id": "82df50e1",
   "metadata": {},
   "outputs": [],
   "source": [
    "import pandas as pd\n",
    "import numpy as np\n",
    "data_path = '../data/processed/vehicle-data-feed-prophet-model.csv'\n",
    "df = pd.read_csv(data_path)\n",
    "\n",
    "df.head()"
   ]
  },
  {
   "cell_type": "markdown",
   "id": "a4e42d25",
   "metadata": {},
   "source": [
    "if gusto ibalik ung orig counts, multiply lng sa 5\n",
    "df['y'] = (df.loc[df['y'] != 0, 'y'] * 5).apply(np.ceil).astype(int)"
   ]
  },
  {
   "cell_type": "code",
   "execution_count": null,
   "id": "bcb63354",
   "metadata": {},
   "outputs": [],
   "source": [
    "#df['y'] = (df.loc[df['y'] != 0, 'y'] / 10).apply(np.ceil).astype(int)\n",
    "#(df.loc[df['y'] >= 600, 'y'])"
   ]
  },
  {
   "cell_type": "code",
   "execution_count": null,
   "id": "7ceae55e",
   "metadata": {},
   "outputs": [],
   "source": [
    "#df['y'] = (df.loc[(df['y'] != 0) | (df['y'] >= 500), 'y'] / 2).apply(np.ceil).astype(int)"
   ]
  },
  {
   "cell_type": "code",
   "execution_count": null,
   "id": "a9cb53f4",
   "metadata": {},
   "outputs": [],
   "source": [
    "df['ds'] = pd.to_datetime(df['ds'])"
   ]
  },
  {
   "cell_type": "code",
   "execution_count": null,
   "id": "4f1b836e",
   "metadata": {},
   "outputs": [],
   "source": [
    "#df['y'] = df['y'].fillna(30).astype(int)"
   ]
  },
  {
   "cell_type": "code",
   "execution_count": null,
   "id": "0eb2aba4",
   "metadata": {},
   "outputs": [],
   "source": [
    "df.loc[df['y'] >= 500, 'y'] = (df.loc[df['y'] >= 500, 'y'] - 200).astype(int)"
   ]
  },
  {
   "cell_type": "code",
   "execution_count": null,
   "id": "1b174177",
   "metadata": {},
   "outputs": [],
   "source": [
    "df.head()\n",
    "df.info()"
   ]
  },
  {
   "cell_type": "code",
   "execution_count": null,
   "id": "adc9a2ec",
   "metadata": {},
   "outputs": [],
   "source": [
    "df.to_csv(data_path, index=False)"
   ]
  }
 ],
 "metadata": {
  "kernelspec": {
   "display_name": ".venv",
   "language": "python",
   "name": "python3"
  },
  "language_info": {
   "codemirror_mode": {
    "name": "ipython",
    "version": 3
   },
   "file_extension": ".py",
   "mimetype": "text/x-python",
   "name": "python",
   "nbconvert_exporter": "python",
   "pygments_lexer": "ipython3",
   "version": "3.13.3"
  }
 },
 "nbformat": 4,
 "nbformat_minor": 5
}
