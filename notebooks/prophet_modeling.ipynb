{
 "cells": [
  {
   "cell_type": "markdown",
   "id": "56d4b204",
   "metadata": {},
   "source": [
    "Load dataset"
   ]
  },
  {
   "cell_type": "code",
   "execution_count": 4,
   "id": "1204412a",
   "metadata": {},
   "outputs": [
    {
     "data": {
      "text/html": [
       "<div>\n",
       "<style scoped>\n",
       "    .dataframe tbody tr th:only-of-type {\n",
       "        vertical-align: middle;\n",
       "    }\n",
       "\n",
       "    .dataframe tbody tr th {\n",
       "        vertical-align: top;\n",
       "    }\n",
       "\n",
       "    .dataframe thead th {\n",
       "        text-align: right;\n",
       "    }\n",
       "</style>\n",
       "<table border=\"1\" class=\"dataframe\">\n",
       "  <thead>\n",
       "    <tr style=\"text-align: right;\">\n",
       "      <th></th>\n",
       "      <th>ds</th>\n",
       "      <th>y</th>\n",
       "    </tr>\n",
       "  </thead>\n",
       "  <tbody>\n",
       "    <tr>\n",
       "      <th>0</th>\n",
       "      <td>2024-01-01 00:00:00</td>\n",
       "      <td>1395</td>\n",
       "    </tr>\n",
       "    <tr>\n",
       "      <th>1</th>\n",
       "      <td>2024-01-01 01:00:00</td>\n",
       "      <td>1292</td>\n",
       "    </tr>\n",
       "    <tr>\n",
       "      <th>2</th>\n",
       "      <td>2024-01-01 02:00:00</td>\n",
       "      <td>957</td>\n",
       "    </tr>\n",
       "    <tr>\n",
       "      <th>3</th>\n",
       "      <td>2024-01-01 03:00:00</td>\n",
       "      <td>559</td>\n",
       "    </tr>\n",
       "    <tr>\n",
       "      <th>4</th>\n",
       "      <td>2024-01-01 04:00:00</td>\n",
       "      <td>329</td>\n",
       "    </tr>\n",
       "  </tbody>\n",
       "</table>\n",
       "</div>"
      ],
      "text/plain": [
       "                    ds     y\n",
       "0  2024-01-01 00:00:00  1395\n",
       "1  2024-01-01 01:00:00  1292\n",
       "2  2024-01-01 02:00:00   957\n",
       "3  2024-01-01 03:00:00   559\n",
       "4  2024-01-01 04:00:00   329"
      ]
     },
     "execution_count": 4,
     "metadata": {},
     "output_type": "execute_result"
    }
   ],
   "source": [
    "import pandas as pd\n",
    "\n",
    "df = pd.read_csv('../data/processed/vehicle-data-feed-prophet-model.csv')\n",
    "df.head()"
   ]
  },
  {
   "cell_type": "code",
   "execution_count": 5,
   "id": "aa5fe063",
   "metadata": {},
   "outputs": [
    {
     "data": {
      "text/plain": [
       "ds    datetime64[ns]\n",
       "y              int64\n",
       "dtype: object"
      ]
     },
     "execution_count": 5,
     "metadata": {},
     "output_type": "execute_result"
    }
   ],
   "source": [
    "df['ds'] = pd.to_datetime(df['ds']) # convert ds object into datetime type\n",
    "df.dtypes"
   ]
  },
  {
   "cell_type": "markdown",
   "id": "00c100a5",
   "metadata": {},
   "source": [
    "Train your prophet model by feeding your dataset"
   ]
  },
  {
   "cell_type": "code",
   "execution_count": null,
   "id": "46010885",
   "metadata": {},
   "outputs": [
    {
     "name": "stderr",
     "output_type": "stream",
     "text": [
      "12:36:10 - cmdstanpy - INFO - Chain [1] start processing\n",
      "12:36:12 - cmdstanpy - INFO - Chain [1] done processing\n"
     ]
    },
    {
     "data": {
      "text/plain": [
       "<prophet.forecaster.Prophet at 0x256ab1547d0>"
      ]
     },
     "execution_count": 7,
     "metadata": {},
     "output_type": "execute_result"
    }
   ],
   "source": [
    "from prophet import Prophet\n",
    "\n",
    "m = Prophet()\n",
    "m.fit(df) # train the modl"
   ]
  },
  {
   "cell_type": "markdown",
   "id": "a9052042",
   "metadata": {},
   "source": [
    "Genearate Future Prediction"
   ]
  },
  {
   "cell_type": "code",
   "execution_count": 8,
   "id": "8d9cd6f1",
   "metadata": {},
   "outputs": [
    {
     "name": "stderr",
     "output_type": "stream",
     "text": [
      "c:\\Users\\imper\\Documents\\capstone-project-v2\\.venv\\Lib\\site-packages\\prophet\\forecaster.py:1872: FutureWarning: 'H' is deprecated and will be removed in a future version, please use 'h' instead.\n",
      "  dates = pd.date_range(\n"
     ]
    }
   ],
   "source": [
    "# generate future prediction with 1hr interval\n",
    "future = m.make_future_dataframe(periods=24*365, freq='H')\n",
    "forecast = m.predict(future)"
   ]
  },
  {
   "cell_type": "code",
   "execution_count": 11,
   "id": "db71eadc",
   "metadata": {},
   "outputs": [
    {
     "data": {
      "text/html": [
       "<div>\n",
       "<style scoped>\n",
       "    .dataframe tbody tr th:only-of-type {\n",
       "        vertical-align: middle;\n",
       "    }\n",
       "\n",
       "    .dataframe tbody tr th {\n",
       "        vertical-align: top;\n",
       "    }\n",
       "\n",
       "    .dataframe thead th {\n",
       "        text-align: right;\n",
       "    }\n",
       "</style>\n",
       "<table border=\"1\" class=\"dataframe\">\n",
       "  <thead>\n",
       "    <tr style=\"text-align: right;\">\n",
       "      <th></th>\n",
       "      <th>ds</th>\n",
       "      <th>trend</th>\n",
       "      <th>yhat_lower</th>\n",
       "      <th>yhat_upper</th>\n",
       "      <th>trend_lower</th>\n",
       "      <th>trend_upper</th>\n",
       "      <th>additive_terms</th>\n",
       "      <th>additive_terms_lower</th>\n",
       "      <th>additive_terms_upper</th>\n",
       "      <th>daily</th>\n",
       "      <th>daily_lower</th>\n",
       "      <th>daily_upper</th>\n",
       "      <th>weekly</th>\n",
       "      <th>weekly_lower</th>\n",
       "      <th>weekly_upper</th>\n",
       "      <th>multiplicative_terms</th>\n",
       "      <th>multiplicative_terms_lower</th>\n",
       "      <th>multiplicative_terms_upper</th>\n",
       "      <th>yhat</th>\n",
       "    </tr>\n",
       "  </thead>\n",
       "  <tbody>\n",
       "    <tr>\n",
       "      <th>17539</th>\n",
       "      <td>2025-12-31 19:00:00</td>\n",
       "      <td>3023.516921</td>\n",
       "      <td>266.311118</td>\n",
       "      <td>5205.474518</td>\n",
       "      <td>2740.347808</td>\n",
       "      <td>3328.655088</td>\n",
       "      <td>-468.257864</td>\n",
       "      <td>-468.257864</td>\n",
       "      <td>-468.257864</td>\n",
       "      <td>-529.761471</td>\n",
       "      <td>-529.761471</td>\n",
       "      <td>-529.761471</td>\n",
       "      <td>61.503607</td>\n",
       "      <td>61.503607</td>\n",
       "      <td>61.503607</td>\n",
       "      <td>0.0</td>\n",
       "      <td>0.0</td>\n",
       "      <td>0.0</td>\n",
       "      <td>2555.259057</td>\n",
       "    </tr>\n",
       "    <tr>\n",
       "      <th>17540</th>\n",
       "      <td>2025-12-31 20:00:00</td>\n",
       "      <td>3023.491979</td>\n",
       "      <td>124.185545</td>\n",
       "      <td>5102.900275</td>\n",
       "      <td>2740.289056</td>\n",
       "      <td>3328.638030</td>\n",
       "      <td>-427.089336</td>\n",
       "      <td>-427.089336</td>\n",
       "      <td>-427.089336</td>\n",
       "      <td>-487.546148</td>\n",
       "      <td>-487.546148</td>\n",
       "      <td>-487.546148</td>\n",
       "      <td>60.456812</td>\n",
       "      <td>60.456812</td>\n",
       "      <td>60.456812</td>\n",
       "      <td>0.0</td>\n",
       "      <td>0.0</td>\n",
       "      <td>0.0</td>\n",
       "      <td>2596.402643</td>\n",
       "    </tr>\n",
       "    <tr>\n",
       "      <th>17541</th>\n",
       "      <td>2025-12-31 21:00:00</td>\n",
       "      <td>3023.467037</td>\n",
       "      <td>279.398760</td>\n",
       "      <td>5274.505504</td>\n",
       "      <td>2740.230303</td>\n",
       "      <td>3328.620972</td>\n",
       "      <td>-294.669740</td>\n",
       "      <td>-294.669740</td>\n",
       "      <td>-294.669740</td>\n",
       "      <td>-354.603284</td>\n",
       "      <td>-354.603284</td>\n",
       "      <td>-354.603284</td>\n",
       "      <td>59.933544</td>\n",
       "      <td>59.933544</td>\n",
       "      <td>59.933544</td>\n",
       "      <td>0.0</td>\n",
       "      <td>0.0</td>\n",
       "      <td>0.0</td>\n",
       "      <td>2728.797298</td>\n",
       "    </tr>\n",
       "    <tr>\n",
       "      <th>17542</th>\n",
       "      <td>2025-12-31 22:00:00</td>\n",
       "      <td>3023.442096</td>\n",
       "      <td>180.706173</td>\n",
       "      <td>5413.991280</td>\n",
       "      <td>2740.171551</td>\n",
       "      <td>3328.603913</td>\n",
       "      <td>-114.947066</td>\n",
       "      <td>-114.947066</td>\n",
       "      <td>-114.947066</td>\n",
       "      <td>-174.869870</td>\n",
       "      <td>-174.869870</td>\n",
       "      <td>-174.869870</td>\n",
       "      <td>59.922805</td>\n",
       "      <td>59.922805</td>\n",
       "      <td>59.922805</td>\n",
       "      <td>0.0</td>\n",
       "      <td>0.0</td>\n",
       "      <td>0.0</td>\n",
       "      <td>2908.495030</td>\n",
       "    </tr>\n",
       "    <tr>\n",
       "      <th>17543</th>\n",
       "      <td>2025-12-31 23:00:00</td>\n",
       "      <td>3023.417154</td>\n",
       "      <td>461.116860</td>\n",
       "      <td>5766.297829</td>\n",
       "      <td>2740.112799</td>\n",
       "      <td>3328.586855</td>\n",
       "      <td>59.694869</td>\n",
       "      <td>59.694869</td>\n",
       "      <td>59.694869</td>\n",
       "      <td>-0.712286</td>\n",
       "      <td>-0.712286</td>\n",
       "      <td>-0.712286</td>\n",
       "      <td>60.407154</td>\n",
       "      <td>60.407154</td>\n",
       "      <td>60.407154</td>\n",
       "      <td>0.0</td>\n",
       "      <td>0.0</td>\n",
       "      <td>0.0</td>\n",
       "      <td>3083.112022</td>\n",
       "    </tr>\n",
       "  </tbody>\n",
       "</table>\n",
       "</div>"
      ],
      "text/plain": [
       "                       ds        trend  yhat_lower   yhat_upper  trend_lower  \\\n",
       "17539 2025-12-31 19:00:00  3023.516921  266.311118  5205.474518  2740.347808   \n",
       "17540 2025-12-31 20:00:00  3023.491979  124.185545  5102.900275  2740.289056   \n",
       "17541 2025-12-31 21:00:00  3023.467037  279.398760  5274.505504  2740.230303   \n",
       "17542 2025-12-31 22:00:00  3023.442096  180.706173  5413.991280  2740.171551   \n",
       "17543 2025-12-31 23:00:00  3023.417154  461.116860  5766.297829  2740.112799   \n",
       "\n",
       "       trend_upper  additive_terms  additive_terms_lower  \\\n",
       "17539  3328.655088     -468.257864           -468.257864   \n",
       "17540  3328.638030     -427.089336           -427.089336   \n",
       "17541  3328.620972     -294.669740           -294.669740   \n",
       "17542  3328.603913     -114.947066           -114.947066   \n",
       "17543  3328.586855       59.694869             59.694869   \n",
       "\n",
       "       additive_terms_upper       daily  daily_lower  daily_upper     weekly  \\\n",
       "17539           -468.257864 -529.761471  -529.761471  -529.761471  61.503607   \n",
       "17540           -427.089336 -487.546148  -487.546148  -487.546148  60.456812   \n",
       "17541           -294.669740 -354.603284  -354.603284  -354.603284  59.933544   \n",
       "17542           -114.947066 -174.869870  -174.869870  -174.869870  59.922805   \n",
       "17543             59.694869   -0.712286    -0.712286    -0.712286  60.407154   \n",
       "\n",
       "       weekly_lower  weekly_upper  multiplicative_terms  \\\n",
       "17539     61.503607     61.503607                   0.0   \n",
       "17540     60.456812     60.456812                   0.0   \n",
       "17541     59.933544     59.933544                   0.0   \n",
       "17542     59.922805     59.922805                   0.0   \n",
       "17543     60.407154     60.407154                   0.0   \n",
       "\n",
       "       multiplicative_terms_lower  multiplicative_terms_upper         yhat  \n",
       "17539                         0.0                         0.0  2555.259057  \n",
       "17540                         0.0                         0.0  2596.402643  \n",
       "17541                         0.0                         0.0  2728.797298  \n",
       "17542                         0.0                         0.0  2908.495030  \n",
       "17543                         0.0                         0.0  3083.112022  "
      ]
     },
     "execution_count": 11,
     "metadata": {},
     "output_type": "execute_result"
    }
   ],
   "source": [
    "forecast.tail()"
   ]
  }
 ],
 "metadata": {
  "kernelspec": {
   "display_name": ".venv",
   "language": "python",
   "name": "python3"
  },
  "language_info": {
   "codemirror_mode": {
    "name": "ipython",
    "version": 3
   },
   "file_extension": ".py",
   "mimetype": "text/x-python",
   "name": "python",
   "nbconvert_exporter": "python",
   "pygments_lexer": "ipython3",
   "version": "3.13.3"
  }
 },
 "nbformat": 4,
 "nbformat_minor": 5
}
