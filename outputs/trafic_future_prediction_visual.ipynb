{
 "cells": [
  {
   "cell_type": "markdown",
   "id": "fa0150c1",
   "metadata": {},
   "source": [
    "Load the Prophet Model"
   ]
  },
  {
   "cell_type": "code",
   "execution_count": null,
   "id": "db4d0c36",
   "metadata": {},
   "outputs": [],
   "source": [
    "import sys\n",
    "import os\n",
    "\n",
    "# Add the src directory to the path\n",
    "sys.path.append(os.path.abspath('../src/traffic_ai'))\n",
    "\n",
    "from traffic_forecast.prophet_modeling import ProphetModel\n",
    "\n",
    "model = ProphetModel('../data/processed/vehicle-data-feed-prophet-model.csv')\n",
    "\n",
    "model.train_model()\n",
    "forecast = model.predict_future()"
   ]
  },
  {
   "cell_type": "markdown",
   "id": "eaa7d3a6",
   "metadata": {},
   "source": [
    "Visualize"
   ]
  },
  {
   "cell_type": "code",
   "execution_count": null,
   "id": "35fedbd6",
   "metadata": {},
   "outputs": [],
   "source": [
    "model.m.plot(forecast)"
   ]
  },
  {
   "cell_type": "code",
   "execution_count": null,
   "id": "709faa05",
   "metadata": {},
   "outputs": [],
   "source": [
    "model.m.plot_components(forecast)"
   ]
  },
  {
   "cell_type": "markdown",
   "id": "14d9030e",
   "metadata": {},
   "source": [
    "Visualize for Daily, Weekly and Monthly"
   ]
  },
  {
   "cell_type": "code",
   "execution_count": null,
   "id": "cf44d16e",
   "metadata": {},
   "outputs": [],
   "source": [
    "# Load model for each type of date  \n",
    "hourly = model.hourly_prediction\n",
    "daily = model.daily_prediction\n",
    "weekly = model.weekly_prediction\n",
    "monthly = model.monthly_prediction"
   ]
  },
  {
   "cell_type": "code",
   "execution_count": null,
   "id": "866bd5ee",
   "metadata": {},
   "outputs": [],
   "source": [
    "import matplotlib.pyplot as plt\n",
    "\n",
    "# Plot daily forecast\n",
    "plt.figure(figsize=(12, 6))\n",
    "plt.plot(weekly['ds'], weekly['yhat'], marker='o', linestyle='-', color='dodgerblue')\n",
    "plt.title('Daily Traffic Forecast')\n",
    "plt.xlabel('Date')\n",
    "plt.ylabel('Predicted Traffic Volume')\n",
    "plt.grid(True)\n",
    "plt.tight_layout()\n",
    "plt.show()"
   ]
  }
 ],
 "metadata": {
  "kernelspec": {
   "display_name": ".venv",
   "language": "python",
   "name": "python3"
  },
  "language_info": {
   "codemirror_mode": {
    "name": "ipython",
    "version": 3
   },
   "file_extension": ".py",
   "mimetype": "text/x-python",
   "name": "python",
   "nbconvert_exporter": "python",
   "pygments_lexer": "ipython3",
   "version": "3.13.3"
  }
 },
 "nbformat": 4,
 "nbformat_minor": 5
}
